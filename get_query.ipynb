{
 "cells": [
  {
   "cell_type": "code",
   "execution_count": 1,
   "metadata": {},
   "outputs": [
    {
     "name": "stderr",
     "output_type": "stream",
     "text": [
      "/opt/anaconda3/envs/rag/lib/python3.11/site-packages/tqdm/auto.py:21: TqdmWarning: IProgress not found. Please update jupyter and ipywidgets. See https://ipywidgets.readthedocs.io/en/stable/user_install.html\n",
      "  from .autonotebook import tqdm as notebook_tqdm\n"
     ]
    }
   ],
   "source": [
    "from dotenv import load_dotenv\n",
    "import anthropic\n",
    "import pandas as pd\n",
    "import os\n",
    "from sentence_transformers import SentenceTransformer\n"
   ]
  },
  {
   "cell_type": "code",
   "execution_count": 2,
   "metadata": {},
   "outputs": [],
   "source": [
    "load_dotenv()\n",
    "\n",
    "ANTHROPIC_API_KEY = os.getenv(\"ANTHROPIC_API_KEY\")"
   ]
  },
  {
   "cell_type": "code",
   "execution_count": 3,
   "metadata": {},
   "outputs": [
    {
     "data": {
      "text/html": [
       "<div>\n",
       "<style scoped>\n",
       "    .dataframe tbody tr th:only-of-type {\n",
       "        vertical-align: middle;\n",
       "    }\n",
       "\n",
       "    .dataframe tbody tr th {\n",
       "        vertical-align: top;\n",
       "    }\n",
       "\n",
       "    .dataframe thead th {\n",
       "        text-align: right;\n",
       "    }\n",
       "</style>\n",
       "<table border=\"1\" class=\"dataframe\">\n",
       "  <thead>\n",
       "    <tr style=\"text-align: right;\">\n",
       "      <th></th>\n",
       "      <th>Sentence</th>\n",
       "      <th>Embedding</th>\n",
       "    </tr>\n",
       "  </thead>\n",
       "  <tbody>\n",
       "    <tr>\n",
       "      <th>32</th>\n",
       "      <td>Wallbreakers successfully ruin the strategies ...</td>\n",
       "      <td>[-0.014169091, 0.040919688, -0.004156394, -0.0...</td>\n",
       "    </tr>\n",
       "    <tr>\n",
       "      <th>19</th>\n",
       "      <td>from destroying records of their communication...</td>\n",
       "      <td>[-0.09805878, -0.04712853, -0.04607563, -0.027...</td>\n",
       "    </tr>\n",
       "    <tr>\n",
       "      <th>67</th>\n",
       "      <td>of Trisolaris's three suns is struck by a rela...</td>\n",
       "      <td>[-0.021488613, -0.047500413, -0.010815905, 0.0...</td>\n",
       "    </tr>\n",
       "    <tr>\n",
       "      <th>33</th>\n",
       "      <td>including announcing his resignation, are inte...</td>\n",
       "      <td>[0.0068574557, 0.024951369, 0.046441276, 0.006...</td>\n",
       "    </tr>\n",
       "    <tr>\n",
       "      <th>8</th>\n",
       "      <td>a private army and build small nuclear weapons...</td>\n",
       "      <td>[-0.08663975, 0.032416612, -0.019097388, -0.00...</td>\n",
       "    </tr>\n",
       "  </tbody>\n",
       "</table>\n",
       "</div>"
      ],
      "text/plain": [
       "                                             Sentence  \\\n",
       "32  Wallbreakers successfully ruin the strategies ...   \n",
       "19  from destroying records of their communication...   \n",
       "67  of Trisolaris's three suns is struck by a rela...   \n",
       "33  including announcing his resignation, are inte...   \n",
       "8   a private army and build small nuclear weapons...   \n",
       "\n",
       "                                            Embedding  \n",
       "32  [-0.014169091, 0.040919688, -0.004156394, -0.0...  \n",
       "19  [-0.09805878, -0.04712853, -0.04607563, -0.027...  \n",
       "67  [-0.021488613, -0.047500413, -0.010815905, 0.0...  \n",
       "33  [0.0068574557, 0.024951369, 0.046441276, 0.006...  \n",
       "8   [-0.08663975, 0.032416612, -0.019097388, -0.00...  "
      ]
     },
     "execution_count": 3,
     "metadata": {},
     "output_type": "execute_result"
    }
   ],
   "source": [
    "# load pickle file\n",
    "embedding_df = pd.read_pickle(\"embeddings/embedding.pkl\")\n",
    "embedding_df.sample(5)"
   ]
  },
  {
   "cell_type": "code",
   "execution_count": 4,
   "metadata": {},
   "outputs": [
    {
     "name": "stdout",
     "output_type": "stream",
     "text": [
      "[-6.77938461e-02  1.00651063e-01 -7.66228512e-03  8.76871124e-02\n",
      "  2.61270311e-02  1.78627037e-02  1.08779937e-01  1.51813086e-02\n",
      " -7.37962723e-02  2.73137428e-02  6.47440255e-02  4.73283324e-03\n",
      " -3.61168967e-03  3.56935486e-02  3.55686359e-02  8.83444920e-02\n",
      "  2.48198826e-02  4.26023751e-02 -5.83152957e-02 -3.11054420e-02\n",
      " -6.53457362e-03 -7.37486035e-02 -1.12962294e-02  3.86004634e-02\n",
      " -4.12410088e-02 -4.05967459e-02  2.70972457e-02  3.60601209e-02\n",
      " -3.02755684e-02 -3.08797881e-02 -6.17343783e-02  5.86370826e-02\n",
      "  2.36011446e-02  2.21631993e-02 -1.81382261e-02  7.81486854e-02\n",
      "  1.04214430e-01 -1.07985665e-03  1.34266643e-02 -2.02773437e-02\n",
      "  6.14257390e-03 -2.10700072e-02  9.46372971e-02 -7.77823925e-02\n",
      "  6.06550090e-02 -6.25379235e-02 -1.75790880e-02 -1.85542181e-02\n",
      "  7.21151680e-02 -4.58323024e-02 -7.55148828e-02  2.75352448e-02\n",
      " -6.59098774e-02 -1.28208296e-02  9.67031403e-04  1.43743074e-02\n",
      "  5.18845692e-02  7.53357122e-03 -4.23526904e-03 -5.36064655e-02\n",
      " -6.72690347e-02 -2.55814455e-02  6.62672613e-03  8.96551982e-02\n",
      "  5.58053404e-02 -9.89664644e-02 -7.58103514e-03  1.42622646e-03\n",
      "  1.11104939e-02  4.50246446e-02  7.76427090e-02 -2.40755994e-02\n",
      " -4.80793510e-03 -6.32765470e-03  1.12102441e-02  1.65473707e-02\n",
      "  1.44249117e-02  2.70754527e-02 -2.95025147e-02 -6.14077300e-02\n",
      " -2.58752946e-02 -1.71024743e-02  4.68203239e-02  3.40111367e-03\n",
      " -4.09358963e-02  4.32343669e-02 -4.65483852e-02 -3.11364327e-02\n",
      " -1.98648069e-02 -2.48672739e-02  4.02395800e-02  1.94959622e-02\n",
      " -5.95325492e-02  4.17651087e-02 -6.92391768e-02 -1.17132943e-02\n",
      " -5.10817720e-03  6.44505545e-02 -4.29493375e-02  5.28740250e-02\n",
      "  5.89866154e-02  3.07499412e-02  2.74597406e-02 -5.23814857e-02\n",
      "  4.58985642e-02 -1.36246691e-02  2.66047027e-02  4.07801196e-03\n",
      "  4.49790172e-02  4.46823239e-02 -1.04818366e-01 -3.31038460e-02\n",
      " -4.28091511e-02  2.57777311e-02  5.00431797e-03  2.17294730e-02\n",
      " -5.78273786e-03  6.31545931e-02 -1.19690798e-01 -3.39056365e-02\n",
      "  5.84724024e-02 -1.13185849e-02 -6.96926042e-02 -1.59221292e-02\n",
      " -8.73364508e-02  2.13456731e-02 -1.94818322e-02 -4.16764543e-33\n",
      "  7.34687150e-02 -4.97570410e-02  4.97089066e-02  1.67927761e-02\n",
      "  3.65534574e-02  2.94023268e-02 -9.83194914e-04 -4.97656427e-02\n",
      " -6.46243570e-03  1.79797190e-03 -5.31377643e-02  1.35060111e-02\n",
      " -6.05466403e-02 -1.96459070e-02  3.56279351e-02  1.44059658e-02\n",
      " -7.57499188e-02 -1.98338162e-02  4.31572879e-03 -2.78969156e-03\n",
      "  8.56751353e-02  9.56953466e-02 -5.19427024e-02 -2.34032087e-02\n",
      "  4.30619530e-02  1.59747973e-01  1.48981670e-02 -8.27431381e-02\n",
      " -3.61923613e-02  6.40172809e-02 -7.17036501e-02  8.63872170e-02\n",
      " -1.69968214e-02 -5.04890159e-02 -8.97951145e-03 -1.82476807e-02\n",
      " -6.91652000e-02 -6.00084625e-02 -2.13985965e-02 -1.17589149e-03\n",
      "  4.88297939e-02 -1.05513539e-02 -2.82352883e-02  1.14491917e-02\n",
      " -1.26861170e-01 -4.30689342e-02 -4.04800437e-02 -1.93854403e-02\n",
      "  1.48053870e-01 -8.81339330e-03 -4.44092005e-02 -9.79472399e-02\n",
      "  9.23383795e-03 -2.62317732e-02  6.70253485e-02 -7.10384399e-02\n",
      " -1.14466399e-02 -2.38765515e-02  8.94850120e-02 -7.66188779e-04\n",
      "  4.43541855e-02 -3.01631279e-02 -5.89794703e-02  1.08658440e-01\n",
      " -2.58564334e-02 -9.12179500e-02  7.03050802e-03  2.51832623e-02\n",
      " -4.29506376e-02 -2.43778471e-02 -1.73362102e-02  9.69558768e-03\n",
      " -6.22340515e-02 -3.12328264e-02 -7.73854554e-02 -9.93468016e-02\n",
      " -2.89245309e-05 -5.92373200e-02 -1.55367854e-03  2.16391813e-02\n",
      "  2.08551437e-02  2.35273130e-02  3.28160338e-02  6.98814020e-02\n",
      " -3.86190861e-02  3.45355719e-02  8.09106231e-02  6.32121488e-02\n",
      " -1.51181256e-03  2.01167688e-02 -1.05047777e-01  1.68102756e-02\n",
      "  5.41425385e-02 -8.40434954e-02 -9.87039059e-02  4.44100756e-34\n",
      " -3.90659869e-02  3.62270512e-02  2.00754981e-02  3.57838459e-02\n",
      " -6.14501594e-04 -2.08564270e-02 -1.28804715e-02  4.65158634e-02\n",
      "  6.53191656e-02 -3.15358154e-02 -2.66702753e-02 -6.90998137e-02\n",
      "  8.71500298e-02  6.23404700e-03  2.08614394e-02 -1.77843738e-02\n",
      "  5.33997938e-02  3.17040905e-02 -5.07466644e-02  2.59854868e-02\n",
      " -4.31960523e-02 -4.00032699e-02 -2.47624032e-02 -4.90024462e-02\n",
      " -3.96886952e-02  2.39315145e-02  3.11335530e-02 -4.68469635e-02\n",
      " -1.37713403e-01  8.35742876e-02 -9.13639553e-03 -5.03864046e-03\n",
      " -4.00863513e-02  3.08438819e-02  2.42790319e-02 -1.20392963e-02\n",
      " -7.59773748e-03  3.42287049e-02 -2.34371214e-03 -2.50520706e-02\n",
      "  6.81860745e-02 -1.82080604e-02  6.23888224e-02  8.93463045e-02\n",
      "  4.40891460e-02  3.59895499e-03 -9.24940854e-02 -2.31743231e-02\n",
      " -5.34325689e-02  4.91562933e-02 -3.22463848e-02  1.73337404e-02\n",
      " -8.01036786e-03  2.36171111e-02 -2.71748863e-02 -5.88047579e-02\n",
      " -5.02067283e-02  3.09191790e-04 -1.03743896e-02 -1.30910648e-03\n",
      " -7.02057630e-02 -5.32874558e-03 -5.34299277e-02  4.89133410e-02\n",
      " -1.54125681e-02  1.72387272e-01  4.70375195e-02 -3.53813893e-03\n",
      " -6.33043470e-03 -7.34942853e-02  1.33861825e-01  5.07218279e-02\n",
      " -1.23059312e-02  3.60866562e-02 -2.59909183e-02  6.01835884e-02\n",
      " -1.34867504e-01  7.40968809e-02 -1.44020477e-02  3.67243737e-02\n",
      " -9.12907813e-03 -3.75520922e-02 -4.17429544e-02 -2.66451575e-03\n",
      " -6.93957061e-02 -4.64344472e-02 -2.54797712e-02 -1.82929095e-02\n",
      "  3.37086804e-02 -6.05011657e-02  1.54291335e-02 -4.35241275e-02\n",
      "  1.50959808e-02  2.00170856e-02 -3.18407826e-02 -1.46800332e-08\n",
      " -5.30423783e-02  2.13742183e-04  7.33581781e-02 -1.21874297e-02\n",
      " -2.47582346e-02  6.15310706e-02  3.14996159e-03 -3.23534906e-02\n",
      "  8.36436674e-02  1.12581536e-01  3.20036821e-02  7.26143718e-02\n",
      "  2.77035180e-02  3.03643569e-02  1.46746682e-02 -7.70481601e-02\n",
      "  7.41257221e-02  6.16416521e-02  6.23153942e-03  9.80692357e-02\n",
      "  2.10471433e-02 -2.39175949e-02  8.17524344e-02 -8.42501894e-02\n",
      "  5.99673688e-02  4.08689305e-02 -6.22707643e-02  1.80974901e-02\n",
      " -5.56804426e-02 -3.46526168e-02  2.14625299e-02 -1.02203507e-02\n",
      " -7.30963349e-02  1.59482975e-02 -9.31274220e-02  1.81246940e-02\n",
      "  5.01544625e-02 -6.78751245e-02  9.80519410e-03 -7.76596293e-02\n",
      " -2.05951277e-02  1.09771490e-02  3.63245532e-02 -1.47766136e-02\n",
      "  8.06233361e-02 -2.02004984e-02  2.67916657e-02 -6.39817864e-02\n",
      " -2.92704850e-02  2.65483111e-02 -8.04814547e-02  2.38492573e-03\n",
      "  6.61935583e-02 -5.97113855e-02  3.17783579e-02 -8.63644704e-02\n",
      "  7.42772073e-02  4.39888658e-03 -5.18695675e-02 -3.62952389e-02\n",
      "  4.73362394e-02 -1.43275168e-02  8.86671711e-03 -1.32352617e-02]\n"
     ]
    }
   ],
   "source": [
    "question = \"What did Wang Miao do?\"\n",
    "\n",
    "model = SentenceTransformer('sentence-transformers/all-MiniLM-L6-v2')\n",
    "\n",
    "question_embedding = model.encode(question)\n",
    "print(question_embedding)"
   ]
  },
  {
   "cell_type": "code",
   "execution_count": 5,
   "metadata": {},
   "outputs": [
    {
     "name": "stdout",
     "output_type": "stream",
     "text": [
      "K Nearest Neighbors:\n",
      "Miao, a nanotechnology professor, is asked to work with Shi Qiang, a cunning detective, to investigate the mysterious suicides of several scientists, including Ye's daughter Yang Dong. The two of them notice that the world's governments are communicating closely with each other and have put aside their traditional rivalries to prepare for war. Over the next few days, Wang experiences strange hallucinations and meets with Ye. Wang sees people playing a sophisticated virtual reality video game called Three-Body (which is later revealed to have been created by the ETO as a recruitment tool) and begins to play. The game portrays\n",
      "by Shen Yufei, seeking to help the Trisolarans to find a computational solution to the three-body problem, which plagues their planet. A third, smaller faction, the Survivors, intend to help the Trisolarans in exchange for their own descendants' lives while the rest of humanity dies. In the present day, Wang Miao, a nanotechnology professor, is asked to work with Shi Qiang, a cunning detective, to investigate the mysterious suicides of several scientists, including Ye's daughter Yang Dong. The two of them notice that the world's governments are communicating closely with each other and have put aside their traditional rivalries to\n",
      "the solar system. The existence of such weapons was the secret of Yun's first fairy tale; using such a weapon was a gesture of respect by the attacker as they considered humanity a dangerous enemy. The only way to survive is either to flee at light speed, or find a way to live in the 2D plane; neither appears a realistic possibility. One of Wade's former associates awakens Cheng and AA and urges them to fly on one of their corporation's private spacecraft to Pluto, where they meet the now 200-year-old Luo Ji, who gives them a number of artifacts\n",
      "still manages to survive and thrive. With renewed hope, Wang and Shi return to Beijing to help plan the war against the Trisolarans. Now old and weak, Ye Wenjie returns to the top of Radar Peak, once the location of the Red Coast SETI base of operations. As she watches the blood red sun set in the west, she remarks the sight as a \"sunset for humanity\". In a flashback, Chinese sociology professor Luo Ji has a chance meeting with Ye Wenjie, the astrophysicist from The Three Body Problem who first contacted the Trisolarans and encouraged their invasion. She suggests\n",
      "including announcing his resignation, are interpreted as a ruse in service of his ultimate strategy. Selfishly, he takes advantage of his power in order to secure an isolated paradise and an idealised partner. After several years of peace and happiness, his wife reveals her own plan. She wants him to solve the Trisolaran crisis and so puts herself and their daughter into hibernation until the Trisolaran fleet arrives. Luo learns that he was chosen as a Wallfacer because he is the only human that the Trisolarans have ever directly targeted for assassination (and failed), suggesting that the aliens fear him\n"
     ]
    }
   ],
   "source": [
    "# perform cosine similarity and get k closest neighbour\n",
    "\n",
    "from sklearn.metrics.pairwise import cosine_similarity\n",
    "\n",
    "\n",
    "def find_k_nearest_neighbors(df, query_embedding, k=5):\n",
    "    # Compute cosine similarity between query embedding and all embeddings in the DataFrame\n",
    "    similarities = cosine_similarity([query_embedding], list(df['Embedding'].values))[0]\n",
    "\n",
    "    # Find indices of the top K most similar embeddings\n",
    "    top_indices = similarities.argsort()[-k:][::-1]\n",
    "\n",
    "    # Extract the sentences corresponding to the top indices\n",
    "    k_nearest_neighbors = df.iloc[top_indices]['Sentence'].tolist()\n",
    "\n",
    "    return k_nearest_neighbors\n",
    "\n",
    "k_nearest_neighbors = find_k_nearest_neighbors(embedding_df, question_embedding, k=5)\n",
    "print(\"K Nearest Neighbors:\")\n",
    "for neighbor in k_nearest_neighbors:\n",
    "    print(neighbor)"
   ]
  },
  {
   "cell_type": "code",
   "execution_count": 6,
   "metadata": {},
   "outputs": [
    {
     "name": "stdout",
     "output_type": "stream",
     "text": [
      "Use the query context to answer this question:\n",
      "What did Wang Miao do?\n",
      "Query context: \n",
      "Miao, a nanotechnology professor, is asked to work with Shi Qiang, a cunning detective, to investigate the mysterious suicides of several scientists, including Ye's daughter Yang Dong. The two of them notice that the world's governments are communicating closely with each other and have put aside their traditional rivalries to prepare for war. Over the next few days, Wang experiences strange hallucinations and meets with Ye. Wang sees people playing a sophisticated virtual reality video game called Three-Body (which is later revealed to have been created by the ETO as a recruitment tool) and begins to play. The game portrays\n",
      "by Shen Yufei, seeking to help the Trisolarans to find a computational solution to the three-body problem, which plagues their planet. A third, smaller faction, the Survivors, intend to help the Trisolarans in exchange for their own descendants' lives while the rest of humanity dies. In the present day, Wang Miao, a nanotechnology professor, is asked to work with Shi Qiang, a cunning detective, to investigate the mysterious suicides of several scientists, including Ye's daughter Yang Dong. The two of them notice that the world's governments are communicating closely with each other and have put aside their traditional rivalries to\n",
      "the solar system. The existence of such weapons was the secret of Yun's first fairy tale; using such a weapon was a gesture of respect by the attacker as they considered humanity a dangerous enemy. The only way to survive is either to flee at light speed, or find a way to live in the 2D plane; neither appears a realistic possibility. One of Wade's former associates awakens Cheng and AA and urges them to fly on one of their corporation's private spacecraft to Pluto, where they meet the now 200-year-old Luo Ji, who gives them a number of artifacts\n",
      "still manages to survive and thrive. With renewed hope, Wang and Shi return to Beijing to help plan the war against the Trisolarans. Now old and weak, Ye Wenjie returns to the top of Radar Peak, once the location of the Red Coast SETI base of operations. As she watches the blood red sun set in the west, she remarks the sight as a \"sunset for humanity\". In a flashback, Chinese sociology professor Luo Ji has a chance meeting with Ye Wenjie, the astrophysicist from The Three Body Problem who first contacted the Trisolarans and encouraged their invasion. She suggests\n",
      "including announcing his resignation, are interpreted as a ruse in service of his ultimate strategy. Selfishly, he takes advantage of his power in order to secure an isolated paradise and an idealised partner. After several years of peace and happiness, his wife reveals her own plan. She wants him to solve the Trisolaran crisis and so puts herself and their daughter into hibernation until the Trisolaran fleet arrives. Luo learns that he was chosen as a Wallfacer because he is the only human that the Trisolarans have ever directly targeted for assassination (and failed), suggesting that the aliens fear him\n",
      "\n"
     ]
    }
   ],
   "source": [
    "query_for_RAG = \"Use the query context to answer this question:\\n\"\n",
    "query_for_RAG += question\n",
    "query_for_RAG += \"\\n\"\n",
    "\n",
    "query_for_RAG += \"Query context: \\n\"\n",
    "for neighbor in k_nearest_neighbors:\n",
    "    query_for_RAG += neighbor\n",
    "    query_for_RAG += \"\\n\"\n",
    "\n",
    "print(query_for_RAG)"
   ]
  },
  {
   "cell_type": "code",
   "execution_count": 7,
   "metadata": {},
   "outputs": [
    {
     "name": "stderr",
     "output_type": "stream",
     "text": [
      "huggingface/tokenizers: The current process just got forked, after parallelism has already been used. Disabling parallelism to avoid deadlocks...\n",
      "To disable this warning, you can either:\n",
      "\t- Avoid using `tokenizers` before the fork if possible\n",
      "\t- Explicitly set the environment variable TOKENIZERS_PARALLELISM=(true | false)\n"
     ]
    },
    {
     "name": "stdout",
     "output_type": "stream",
     "text": [
      "Message(id='msg_01C2UUd7U8NWxs5qCNz2tXv2', content=[TextBlock(text=\"Based on the query context provided, it seems that Wang Miao, a nanotechnology professor, was asked to work with Shi Qiang, a cunning detective, to investigate the mysterious suicides of several scientists, including Ye's daughter Yang Dong. The two of them noticed that the world's governments were communicating closely with each other and had put aside their traditional rivalries, which suggested they were preparing for war against the Trisolarans. Additionally, Wang Miao began experiencing strange hallucinations and started playing a sophisticated virtual reality video game called Three-Body, which was later revealed to have been created by the ETO as a recruitment tool.\", type='text')], model='claude-3-haiku-20240307', role='assistant', stop_reason='end_turn', stop_sequence=None, type='message', usage=Usage(input_tokens=717, output_tokens=143))\n"
     ]
    }
   ],
   "source": [
    "response = anthropic.Anthropic().messages.create(\n",
    "    model=\"claude-3-haiku-20240307\",\n",
    "    max_tokens=1024,\n",
    "    messages=[\n",
    "        {\"role\": \"user\", \"content\": query_for_RAG}\n",
    "    ]\n",
    ")\n",
    "print(response)"
   ]
  },
  {
   "cell_type": "code",
   "execution_count": 8,
   "metadata": {},
   "outputs": [
    {
     "data": {
      "text/markdown": [
       "Based on the query context provided, it seems that Wang Miao, a nanotechnology professor, was asked to work with Shi Qiang, a cunning detective, to investigate the mysterious suicides of several scientists, including Ye's daughter Yang Dong. The two of them noticed that the world's governments were communicating closely with each other and had put aside their traditional rivalries, which suggested they were preparing for war against the Trisolarans. Additionally, Wang Miao began experiencing strange hallucinations and started playing a sophisticated virtual reality video game called Three-Body, which was later revealed to have been created by the ETO as a recruitment tool."
      ],
      "text/plain": [
       "<IPython.core.display.Markdown object>"
      ]
     },
     "metadata": {},
     "output_type": "display_data"
    }
   ],
   "source": [
    "from IPython.display import display, Markdown\n",
    "\n",
    "\n",
    "display(Markdown(response.content[0].text))\n",
    "\n"
   ]
  },
  {
   "cell_type": "code",
   "execution_count": null,
   "metadata": {},
   "outputs": [],
   "source": []
  }
 ],
 "metadata": {
  "kernelspec": {
   "display_name": "Python 3",
   "language": "python",
   "name": "python3"
  },
  "language_info": {
   "codemirror_mode": {
    "name": "ipython",
    "version": 3
   },
   "file_extension": ".py",
   "mimetype": "text/x-python",
   "name": "python",
   "nbconvert_exporter": "python",
   "pygments_lexer": "ipython3",
   "version": "3.11.8"
  }
 },
 "nbformat": 4,
 "nbformat_minor": 2
}
