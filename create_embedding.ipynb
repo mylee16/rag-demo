{
 "cells": [
  {
   "cell_type": "code",
   "execution_count": 2,
   "metadata": {},
   "outputs": [],
   "source": [
    "from sentence_transformers import SentenceTransformer\n",
    "import pandas as pd"
   ]
  },
  {
   "cell_type": "code",
   "execution_count": 3,
   "metadata": {},
   "outputs": [],
   "source": [
    "def read_text_file(filename):\n",
    "    with open(filename, 'r') as file:\n",
    "        return file.read()\n",
    "\n",
    "def word_windowing(text, window_size, step_size):\n",
    "    words = text.split()  # Split the text into words\n",
    "    windows = []\n",
    "    for i in range(0, len(words) - window_size + 1, step_size):\n",
    "        window = ' '.join(words[i:i + window_size])  # Join words to form window\n",
    "        windows.append(window)\n",
    "    return windows\n",
    "\n",
    "\n",
    "def perform_window_operation(windows):\n",
    "    model = SentenceTransformer('sentence-transformers/all-MiniLM-L6-v2')\n",
    "    sentences = []\n",
    "    embeddings = []\n",
    "\n",
    "    for sentence in windows:\n",
    "        embedding = model.encode(sentence)\n",
    "        sentences.append(sentence)\n",
    "        embeddings.append(embedding)\n",
    "\n",
    "    df = pd.DataFrame({'Sentence': sentences, 'Embedding': embeddings})\n",
    "    return df\n"
   ]
  },
  {
   "cell_type": "code",
   "execution_count": 4,
   "metadata": {},
   "outputs": [],
   "source": [
    "filename = 'three_body_problem.txt'\n",
    "window_size = 100\n",
    "step_size = 50\n",
    "text = read_text_file(filename)\n",
    "windows = word_windowing(text, window_size, step_size)\n"
   ]
  },
  {
   "cell_type": "code",
   "execution_count": 10,
   "metadata": {},
   "outputs": [
    {
     "data": {
      "text/plain": [
       "\"Coast's true intention: the search for extraterrestrial life. Ye discovers the possibility of amplifying outgoing radio waves by using microwave cavities within the Sun and sends an interstellar message to test her theory, but tells no one else. Eight years later, now in a loveless marriage with Yang, Ye receives a message from a concerned alien pacifist from the planet Trisolaris in Alpha Centauri,[a] warning her not to respond or else the inhabitants of Trisolaris will be able to deduce the Solar System's location (based on the time it takes them to receive her response to their messages) and invade\""
      ]
     },
     "execution_count": 10,
     "metadata": {},
     "output_type": "execute_result"
    }
   ],
   "source": [
    "windows[2]"
   ]
  },
  {
   "cell_type": "code",
   "execution_count": 5,
   "metadata": {},
   "outputs": [],
   "source": [
    "embedding_df = perform_window_operation(windows)"
   ]
  },
  {
   "cell_type": "code",
   "execution_count": 6,
   "metadata": {},
   "outputs": [],
   "source": [
    "embedding_df.to_pickle(\"embeddings/embedding.pkl\")"
   ]
  },
  {
   "cell_type": "code",
   "execution_count": 11,
   "metadata": {},
   "outputs": [
    {
     "data": {
      "text/html": [
       "<div>\n",
       "<style scoped>\n",
       "    .dataframe tbody tr th:only-of-type {\n",
       "        vertical-align: middle;\n",
       "    }\n",
       "\n",
       "    .dataframe tbody tr th {\n",
       "        vertical-align: top;\n",
       "    }\n",
       "\n",
       "    .dataframe thead th {\n",
       "        text-align: right;\n",
       "    }\n",
       "</style>\n",
       "<table border=\"1\" class=\"dataframe\">\n",
       "  <thead>\n",
       "    <tr style=\"text-align: right;\">\n",
       "      <th></th>\n",
       "      <th>Sentence</th>\n",
       "      <th>Embedding</th>\n",
       "    </tr>\n",
       "  </thead>\n",
       "  <tbody>\n",
       "    <tr>\n",
       "      <th>24</th>\n",
       "      <td>humanity from now on will never be the same. S...</td>\n",
       "      <td>[-0.028191265, -0.019665377, 0.023111252, 0.01...</td>\n",
       "    </tr>\n",
       "    <tr>\n",
       "      <th>89</th>\n",
       "      <td>to hibernate to conserve oxygen. Once the proc...</td>\n",
       "      <td>[-0.034970105, -0.008142417, -0.018723663, 0.0...</td>\n",
       "    </tr>\n",
       "    <tr>\n",
       "      <th>67</th>\n",
       "      <td>of Trisolaris's three suns is struck by a rela...</td>\n",
       "      <td>[-0.021488613, -0.047500413, -0.010815905, 0.0...</td>\n",
       "    </tr>\n",
       "    <tr>\n",
       "      <th>5</th>\n",
       "      <td>to Tsinghua as a professor, Ye encounters Mike...</td>\n",
       "      <td>[-0.04694913, -0.01860135, -0.00046791031, -0....</td>\n",
       "    </tr>\n",
       "    <tr>\n",
       "      <th>57</th>\n",
       "      <td>Two groups of human starships fled the solar s...</td>\n",
       "      <td>[-0.07281824, 0.008806537, 0.04961432, 0.02709...</td>\n",
       "    </tr>\n",
       "  </tbody>\n",
       "</table>\n",
       "</div>"
      ],
      "text/plain": [
       "                                             Sentence  \\\n",
       "24  humanity from now on will never be the same. S...   \n",
       "89  to hibernate to conserve oxygen. Once the proc...   \n",
       "67  of Trisolaris's three suns is struck by a rela...   \n",
       "5   to Tsinghua as a professor, Ye encounters Mike...   \n",
       "57  Two groups of human starships fled the solar s...   \n",
       "\n",
       "                                            Embedding  \n",
       "24  [-0.028191265, -0.019665377, 0.023111252, 0.01...  \n",
       "89  [-0.034970105, -0.008142417, -0.018723663, 0.0...  \n",
       "67  [-0.021488613, -0.047500413, -0.010815905, 0.0...  \n",
       "5   [-0.04694913, -0.01860135, -0.00046791031, -0....  \n",
       "57  [-0.07281824, 0.008806537, 0.04961432, 0.02709...  "
      ]
     },
     "execution_count": 11,
     "metadata": {},
     "output_type": "execute_result"
    }
   ],
   "source": [
    "embedding_df.sample(5)"
   ]
  },
  {
   "cell_type": "code",
   "execution_count": 14,
   "metadata": {},
   "outputs": [
    {
     "name": "stderr",
     "output_type": "stream",
     "text": [
      "/var/folders/3k/p9wprc317kx8x41rbq4f57tw0000gn/T/ipykernel_49795/1377882823.py:1: FutureWarning: Series.__getitem__ treating keys as positions is deprecated. In a future version, integer keys will always be treated as labels (consistent with DataFrame behavior). To access a value by position, use `ser.iloc[pos]`\n",
      "  embedding_df.iloc[0][1]\n"
     ]
    },
    {
     "data": {
      "text/plain": [
       "array([-4.83101271e-02,  4.32314351e-02,  5.61867952e-02,  3.33585478e-02,\n",
       "       -9.85858031e-03, -3.04072537e-02,  7.13311881e-02, -3.68279442e-02,\n",
       "        5.47659909e-03,  2.23255320e-03,  9.11525339e-02, -3.91898826e-02,\n",
       "        1.96600445e-02, -8.52200575e-03,  6.42613396e-02,  1.51600363e-03,\n",
       "        1.86530948e-02, -1.12397261e-02, -9.31401551e-02, -1.12448238e-01,\n",
       "       -6.46404698e-02, -8.69178586e-03,  7.52593428e-02,  6.25277217e-03,\n",
       "        3.65514830e-02, -5.63865453e-02,  1.02910124e-01,  9.40488931e-03,\n",
       "        2.88410522e-02, -2.28482787e-03, -8.42841342e-02,  6.25420883e-02,\n",
       "       -9.50923711e-02,  6.24949560e-02, -8.16075727e-02,  9.59585980e-02,\n",
       "        1.45677909e-01, -5.97295612e-02, -6.04661703e-02, -1.01486864e-02,\n",
       "        3.65829654e-03, -5.07462136e-02,  1.02338426e-01, -1.95213109e-02,\n",
       "       -1.81333367e-02, -3.07383295e-02,  1.52453957e-02, -8.95272940e-02,\n",
       "        6.07432332e-03, -2.69291569e-02,  3.58025618e-02, -7.04213220e-04,\n",
       "       -7.40223052e-03,  9.73669738e-02,  2.37071272e-02,  8.44866317e-03,\n",
       "        5.23675829e-02,  1.53208142e-02,  3.22558619e-02, -2.05815993e-02,\n",
       "       -3.03527918e-02,  1.00695886e-01, -3.20334844e-02, -4.99808490e-02,\n",
       "        2.25312319e-02, -2.97503881e-02, -6.74622878e-03, -4.66369204e-02,\n",
       "        1.77765414e-02,  4.40696348e-03,  1.12573281e-02, -7.16227517e-02,\n",
       "        7.86080305e-03,  2.53490894e-03, -7.54101351e-02, -1.85109675e-02,\n",
       "        5.92216030e-02,  5.77251762e-02, -4.83384647e-05, -5.30236736e-02,\n",
       "        8.15221742e-02, -3.75207327e-02,  9.75883007e-02,  6.86758086e-02,\n",
       "        2.93166246e-02, -3.53079624e-02, -8.47503096e-02,  9.82400123e-03,\n",
       "        9.48622525e-02, -6.60652900e-03, -6.07976280e-02,  1.78086665e-02,\n",
       "        4.38742787e-02,  8.25175643e-02, -3.83869298e-02,  5.72644919e-03,\n",
       "       -1.59616675e-02,  2.01486461e-02, -3.29639129e-02,  2.45827194e-02,\n",
       "        8.46205875e-02,  1.23827467e-02,  6.31678500e-04,  3.33080105e-02,\n",
       "       -1.06493644e-02, -2.79693324e-02, -4.86645624e-02,  5.70518838e-04,\n",
       "        9.26630292e-03, -5.68880560e-03,  2.31611934e-02,  2.96492074e-02,\n",
       "        2.03230442e-03,  1.34736951e-02, -1.89753212e-02,  6.37341067e-02,\n",
       "       -2.73315441e-02,  9.84820724e-02, -1.49634734e-01, -1.24232294e-02,\n",
       "        6.46314323e-02,  3.91858816e-02, -1.67205781e-02, -5.59945265e-03,\n",
       "        2.08819937e-02, -1.24075398e-01, -6.20805547e-02,  3.17619896e-33,\n",
       "        5.06885052e-02,  3.95477861e-02, -7.42260739e-03, -2.84652831e-03,\n",
       "       -1.51140355e-02,  1.66208036e-02, -2.88130641e-02,  8.88088942e-02,\n",
       "       -2.15758500e-03,  3.92828621e-02, -5.48021905e-02,  6.30820468e-02,\n",
       "       -3.21061797e-02, -5.92496432e-02,  4.83382121e-02,  4.60379943e-02,\n",
       "       -7.38413259e-02,  1.08077703e-02, -1.78793538e-02, -2.44287159e-02,\n",
       "        4.27251309e-02,  4.09590714e-02, -4.29441780e-03, -6.64022639e-02,\n",
       "       -1.96963586e-02,  4.12728377e-02,  3.57742198e-02,  2.46627238e-02,\n",
       "        3.74630792e-03,  1.64990798e-02, -1.21557983e-02,  1.29618812e-02,\n",
       "        5.17593957e-02,  2.46787779e-02, -4.22270745e-02, -7.74986157e-03,\n",
       "       -3.56888399e-02, -1.10310586e-02, -7.41622373e-02,  2.53831851e-03,\n",
       "        4.07630615e-02,  3.42504755e-02, -3.44311334e-02, -2.03333888e-03,\n",
       "        1.73732731e-02, -4.30285335e-02,  2.34535467e-02, -9.52944607e-02,\n",
       "        1.10327363e-01,  5.55292964e-02, -1.14065208e-01,  1.28180254e-02,\n",
       "       -4.82175127e-02,  3.24228071e-02,  9.28076804e-02,  2.05866899e-02,\n",
       "        5.72677068e-02,  5.55247664e-02, -7.13965520e-02, -8.34477786e-03,\n",
       "       -7.81007297e-03, -4.82871048e-02, -2.53438856e-02,  8.67444724e-02,\n",
       "       -1.55383851e-02, -3.72042991e-02, -2.59030052e-02, -1.41780470e-02,\n",
       "       -1.00147769e-01, -2.64035515e-03, -7.34798312e-02,  4.36694943e-04,\n",
       "        2.85950899e-02, -5.56370802e-02, -4.54882309e-02, -8.38157386e-02,\n",
       "        3.50696705e-02, -1.76623203e-02, -1.66775994e-02, -4.20396738e-02,\n",
       "       -2.28921305e-02, -3.36593315e-02,  6.91254018e-03,  7.64160156e-02,\n",
       "       -1.69135556e-02,  1.44137694e-02,  4.64519579e-03,  4.62519489e-02,\n",
       "        9.24162008e-03, -2.72502061e-02, -3.67584862e-02, -5.08935861e-02,\n",
       "        1.99841103e-03, -1.00733705e-01, -1.12945147e-01, -3.92822514e-33,\n",
       "       -9.85405967e-02,  4.35603783e-02, -9.45594236e-02, -3.16341850e-03,\n",
       "        1.18182309e-01, -1.50690556e-01,  6.70963200e-03,  4.93919924e-02,\n",
       "       -9.47212577e-02, -9.86872334e-03,  2.30293199e-02, -5.89390770e-02,\n",
       "        7.37064052e-03,  5.89662269e-02,  3.30264075e-03, -6.55520856e-02,\n",
       "        9.46732834e-02,  3.29433568e-02, -7.73790404e-02,  1.04130013e-02,\n",
       "        2.38308012e-02, -1.31489988e-03, -1.76591929e-02, -1.32411467e-02,\n",
       "       -6.44268747e-03,  2.71684732e-02,  1.57175675e-01, -7.94037525e-03,\n",
       "       -9.20742154e-02,  1.22357346e-01, -3.60530093e-02,  2.26266608e-02,\n",
       "       -2.86669917e-02, -2.19709682e-03,  2.03235950e-02,  1.79382116e-02,\n",
       "        3.25173065e-02,  3.05819437e-02, -1.01145372e-01, -9.85393822e-02,\n",
       "       -6.04774011e-03,  2.18230635e-02,  1.87256616e-02,  4.87174746e-03,\n",
       "       -1.29280910e-02,  2.61360500e-02, -6.26483634e-02,  6.48432001e-02,\n",
       "       -7.65870512e-02,  2.83241719e-02,  3.09379306e-02, -1.31629212e-02,\n",
       "        4.96577732e-02, -2.55200043e-02, -9.06188041e-02, -3.36325504e-02,\n",
       "       -1.51231857e-02, -3.23916264e-02,  4.19316292e-02, -3.86462435e-02,\n",
       "        1.80203915e-02, -2.43394244e-02,  2.92071383e-02,  2.49743760e-02,\n",
       "       -4.34691757e-02, -2.85439678e-02,  3.67694572e-02,  1.44812927e-01,\n",
       "        5.55505268e-02,  4.14036997e-02,  7.63013512e-02,  2.06244309e-02,\n",
       "       -3.11521553e-02, -6.69169880e-04,  1.51402541e-02,  2.41592638e-02,\n",
       "       -2.64469609e-02, -2.02622209e-02, -1.54880574e-02, -9.29425005e-03,\n",
       "        1.23949628e-02, -4.48562838e-02,  2.09345948e-03,  8.36106390e-03,\n",
       "        4.45930660e-02,  1.47012463e-02, -2.41072495e-02,  8.29696953e-02,\n",
       "        8.63294601e-02, -1.07998952e-01,  4.49382961e-02, -8.58221799e-02,\n",
       "       -2.67108474e-02, -7.85893877e-04, -1.47224078e-02, -4.82915326e-08,\n",
       "       -5.26175052e-02, -7.06573874e-02, -5.71357384e-02, -7.90808257e-03,\n",
       "       -7.36841261e-02,  6.72342479e-02, -1.90083385e-02,  6.19831495e-03,\n",
       "       -7.10569741e-03,  5.07680848e-02, -2.80715302e-02,  3.92768979e-02,\n",
       "       -2.54920516e-02,  5.61804092e-03,  2.38070847e-03,  6.80508604e-03,\n",
       "       -3.60974520e-02,  3.27451378e-02, -2.61167791e-02, -8.36403444e-02,\n",
       "        3.00283954e-02,  1.39585491e-02,  7.10652918e-02,  4.10786830e-02,\n",
       "        2.68757269e-02,  1.23386942e-01, -7.06277043e-02,  1.56380236e-02,\n",
       "       -5.01278881e-03,  1.94692183e-02, -3.19796875e-02, -1.71366092e-02,\n",
       "       -5.41977175e-02,  1.46113532e-02,  9.00782924e-03, -2.39545163e-02,\n",
       "        9.14463867e-03,  3.30533236e-02,  2.00124942e-02,  3.23626399e-02,\n",
       "       -3.09668742e-02, -2.17212047e-02,  2.67565381e-02,  8.91891196e-02,\n",
       "        2.04877742e-02, -4.32009064e-03,  2.88777724e-02, -4.40194309e-02,\n",
       "        1.12803757e-01, -6.49103010e-03,  5.42646907e-02, -7.65194818e-02,\n",
       "       -1.94427874e-02, -1.05538189e-01, -4.94347997e-02,  5.66503070e-02,\n",
       "        5.91873564e-03, -7.54689472e-03, -9.01964679e-02,  2.19169222e-02,\n",
       "        3.16110253e-02, -2.15516556e-02, -2.35100258e-02, -1.87880322e-02],\n",
       "      dtype=float32)"
      ]
     },
     "execution_count": 14,
     "metadata": {},
     "output_type": "execute_result"
    }
   ],
   "source": [
    "embedding_df.iloc[0][1]"
   ]
  },
  {
   "cell_type": "code",
   "execution_count": null,
   "metadata": {},
   "outputs": [],
   "source": []
  }
 ],
 "metadata": {
  "kernelspec": {
   "display_name": "rag",
   "language": "python",
   "name": "python3"
  },
  "language_info": {
   "codemirror_mode": {
    "name": "ipython",
    "version": 3
   },
   "file_extension": ".py",
   "mimetype": "text/x-python",
   "name": "python",
   "nbconvert_exporter": "python",
   "pygments_lexer": "ipython3",
   "version": "3.11.8"
  }
 },
 "nbformat": 4,
 "nbformat_minor": 2
}
